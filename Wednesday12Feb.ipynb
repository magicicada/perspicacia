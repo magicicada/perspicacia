{
 "cells": [
  {
   "cell_type": "markdown",
   "metadata": {
    "collapsed": false
   },
   "source": [
    "**Plan for Today - Wednesday 12th February**\n",
    "- a lecture in two parts:\n",
    "1. Some practice with scope and mutable vs immutable\n",
    "2. A look at a past exam question that is related to what we've been doing"
   ]
  },
  {
   "cell_type": "markdown",
   "metadata": {
    "collapsed": false
   },
   "source": [
    "We've talked about scope before, and how to deal with mutable and immutable types, but it's a common point of confusion so I wanted to revisit it.\n",
    "\n",
    "*Immutable objects*: These are of in-built types like int, float, string, tuple. Simply: an immutable object can’t be changed after it is created. It can be re-assigned.\n",
    "*Mutable objects*: These are of types like list and dict.  Simply: a mutable object *can be changed*\n",
    "\n",
    "They are treated differently when passed into functions as parameters.\n",
    "\n",
    "Let's look at some examples:"
   ]
  },
  {
   "cell_type": "code",
   "execution_count": 0,
   "metadata": {
    "collapsed": false
   },
   "outputs": [
   ],
   "source": [
    "myTup = (1, 2, 3)\n",
    "myTup[0] = 9"
   ]
  },
  {
   "cell_type": "code",
   "execution_count": 0,
   "metadata": {
    "collapsed": false
   },
   "outputs": [
   ],
   "source": [
    "myTup = (1, 2, 3)\n",
    "myTup = (5, 6)"
   ]
  },
  {
   "cell_type": "code",
   "execution_count": 0,
   "metadata": {
    "collapsed": false
   },
   "outputs": [
   ],
   "source": [
    "a = 0\n",
    "a = a + 3"
   ]
  },
  {
   "cell_type": "code",
   "execution_count": 0,
   "metadata": {
    "collapsed": false
   },
   "outputs": [
   ],
   "source": [
    "myList = [1, 2, 3, 4]\n",
    "myList[0] = 99"
   ]
  },
  {
   "cell_type": "markdown",
   "metadata": {
    "collapsed": false
   },
   "source": [
    "Let's talk about what happens in a function:"
   ]
  },
  {
   "cell_type": "code",
   "execution_count": 0,
   "metadata": {
    "collapsed": false
   },
   "outputs": [
   ],
   "source": [
    "def func(a):\n",
    "    a = a*2\n",
    "    \n",
    "number = 10\n",
    "func(number)\n",
    "print(number)"
   ]
  },
  {
   "cell_type": "code",
   "execution_count": 0,
   "metadata": {
    "collapsed": false
   },
   "outputs": [
   ],
   "source": [
    "def func(aList):\n",
    "    aList.append('99')\n",
    "    \n",
    "myList = [5, 4, 3]\n",
    "func(myList)\n",
    "print(myList)"
   ]
  },
  {
   "cell_type": "code",
   "execution_count": 0,
   "metadata": {
    "collapsed": false
   },
   "outputs": [
   ],
   "source": [
    "def func(aList):\n",
    "    a = aList[0]\n",
    "    a = 9\n",
    "    \n",
    "myList = [5, 4, 3]\n",
    "func(myList)\n",
    "print(myList)"
   ]
  },
  {
   "cell_type": "code",
   "execution_count": 0,
   "metadata": {
    "collapsed": false
   },
   "outputs": [
   ],
   "source": [
    "def func(aList):\n",
    "    aList[0] = 9\n",
    "    \n",
    "myList = [5, 4, 3]\n",
    "func(myList)\n",
    "print(myList)"
   ]
  },
  {
   "cell_type": "code",
   "execution_count": 0,
   "metadata": {
    "collapsed": false
   },
   "outputs": [
   ],
   "source": [
    "def func(aList):\n",
    "    for i in range(len(aList)):\n",
    "        aList[i] = aList[i]*2\n",
    "    \n",
    "myList = [5, 4, 3]\n",
    "func(myList)\n",
    "print(myList)"
   ]
  },
  {
   "cell_type": "code",
   "execution_count": 0,
   "metadata": {
    "collapsed": false
   },
   "outputs": [
   ],
   "source": [
    "def func(aList):\n",
    "    for elem in aList:\n",
    "        elem = elem*2\n",
    "    \n",
    "myList = [5, 4, 3]\n",
    "func(myList)\n",
    "print(myList)"
   ]
  },
  {
   "cell_type": "markdown",
   "metadata": {
    "collapsed": false
   },
   "source": [
    "It can be a tricky business!  Try to practice these sorts of exercises - past exams often have examples.  "
   ]
  },
  {
   "cell_type": "markdown",
   "metadata": {
    "collapsed": false
   },
   "source": [
    "Speaking of past exams, I wanted to show you a past exam question that's related to the data structure + functions material we've been working on: this is from last year's 1P/1Px exam.  We will spend the rest of this lecture talking about it, and working through parts of it. "
   ]
  },
  {
   "cell_type": "code",
   "execution_count": 0,
   "metadata": {
    "collapsed": false
   },
   "outputs": [
   ],
   "source": [
   ]
  },
  {
   "cell_type": "code",
   "execution_count": 0,
   "metadata": {
    "collapsed": false
   },
   "outputs": [
   ],
   "source": [
   ]
  },
  {
   "cell_type": "code",
   "execution_count": 0,
   "metadata": {
    "collapsed": false
   },
   "outputs": [
   ],
   "source": [
   ]
  }
 ],
 "metadata": {
  "kernelspec": {
   "display_name": "Python 3 (system-wide)",
   "language": "python",
   "metadata": {
    "cocalc": {
     "description": "Python 3 programming language",
     "priority": 100,
     "url": "https://www.python.org/"
    }
   },
   "name": "python3"
  },
  "language_info": {
   "codemirror_mode": {
    "name": "ipython",
    "version": 3
   },
   "file_extension": ".py",
   "mimetype": "text/x-python",
   "name": "python",
   "nbconvert_exporter": "python",
   "pygments_lexer": "ipython3",
   "version": "3.6.9"
  }
 },
 "nbformat": 4,
 "nbformat_minor": 0
}