{
 "cells": [
  {
   "cell_type": "markdown",
   "metadata": {},
   "source": [
    "Plan for today:\n",
    "    - look at more examples of reading from files and dealing with data\n",
    "    - Start thinking more about data structures\n",
    "    - make our first use of a data plotting library\n",
    "    \n",
    "This lecture is being given by Jack - be nice to him!\n",
    "\n",
    "A recap - in the last two lectures and the labs, we have seen and practiced:\n",
    "- reading data from a file\n",
    "- dealing with errors both *defensively* and using *exceptions*\n",
    "- writing functions for working with a particular data structure\n",
    "\n",
    "Today, we'll do more of this with messier and more complicated data, and include some visualisation.\n",
    "Part of the goal of looking at the visualisation is to get more experience using a Python **library**\n"
   ]
  },
  {
   "cell_type": "markdown",
   "metadata": {},
   "source": [
    "**Our data**\n",
    "\n",
    "We want to write a system to deal with commuter information (this example uses fictional data). On each line of our file there will be three pieces of information, separated by commas:\n",
    "id_number,origin_name,destination_name\n",
    "\n",
    "Where id_number is the identifier for an individual person, and the origin_name is where they started from in a day's commute, and destination_name is where they went. Let's call a single line a 'journey'\n",
    "\n",
    "Here is an example of a lines in a file that we might see:"
   ]
  },
  {
   "cell_type": "raw",
   "metadata": {},
   "source": [
    "90999,Milngavie,Glasgow\n",
    "892341,Glasgow,Carlisle\n",
    "892341,Glasgow,Edinburgh"
   ]
  },
  {
   "cell_type": "markdown",
   "metadata": {},
   "source": [
    "What would be a good data structure to store this information?\n",
    "\n",
    "\n",
    "\n",
    "\n",
    "\n",
    "\n",
    "\n",
    "\n",
    "We could talk about a couple different options:\n",
    "- a dictionary with the id_number as a key, and a list of tuples as values\n",
    "- a list of 3-tuples\n",
    "- anything else anyone can think of?\n",
    "\n",
    "Key question: why is a dictionary with an entry per line unsuitable?\n",
    "Should the id numbers be strings or numbers?\n",
    "\n",
    "Let's look at an example of the first option:"
   ]
  },
  {
   "cell_type": "code",
   "execution_count": null,
   "metadata": {},
   "outputs": [],
   "source": [
    "myData = {'90999': [('Milngavie','Glasgow')], '892341': [('Glasgow', 'Carlisle'), ('Glasgow', 'Edinburgh')]}"
   ]
  },
  {
   "cell_type": "code",
   "execution_count": null,
   "metadata": {},
   "outputs": [],
   "source": [
    "Or an example of the second:"
   ]
  },
  {
   "cell_type": "code",
   "execution_count": null,
   "metadata": {},
   "outputs": [],
   "source": [
    "myData = [('90999','Milngavie','Glasgow'), ('892341','Glasgow','Carlisle'), ('892341','Glasgow','Edinburgh')]"
   ]
  },
  {
   "cell_type": "markdown",
   "metadata": {},
   "source": [
    "Now that we've picked our data structure, let's work on some functions to process it.\n",
    "\n",
    "What might we want to do?\n",
    "- read in data\n",
    "- find the list of places a single person commutes to\n",
    "- count the number of journeys between different places\n",
    "- etc\n",
    "\n",
    "\n",
    "This idea of a data structure and a suite of functions built to operate on it is a fundamnetal notion that you'll see over and over in CS - it's the idea that leads to *objects*\n",
    "\n",
    "We will write a couple functions, and then look at plotting.\n",
    "\n",
    "First, we will write a function to count the total number of journeys recorded for each person, and a function to read in values.  "
   ]
  },
  {
   "cell_type": "code",
   "execution_count": 23,
   "metadata": {},
   "outputs": [
    {
     "name": "stdout",
     "output_type": "stream",
     "text": [
      "There is a problem with line \n",
      "{'102': [('Glasgow', 'Edinburgh')], '103': [('Glasgow', 'Edinburgh')], '104': [('Glasgow', 'Edinburgh')], '105': [('Glasgow', 'Edinburgh')], '106': [('Glasgow', 'Edinburgh')], '107': [('Glasgow', 'Edinburgh')], '108': [('Glasgow', 'Edinburgh')], '109': [('Glasgow', 'Edinburgh')], '110': [('Glasgow', 'Edinburgh')], '111': [('Glasgow', 'Edinburgh')], '112': [('Glasgow', 'Edinburgh')], '113': [('Glasgow', 'Edinburgh')], '114': [('Glasgow', 'Edinburgh')], '115': [('Glasgow', 'Edinburgh')], '116': [('Glasgow', 'Edinburgh')], '117': [('Glasgow', 'Edinburgh')], '118': [('Glasgow', 'Edinburgh')], '119': [('Glasgow', 'Edinburgh')], '120': [('Glasgow', 'Edinburgh')], '121': [('Glasgow', 'Edinburgh')], '122': [('Glasgow', 'Edinburgh')], '123': [('Glasgow', 'Edinburgh')], '124': [('Glasgow', 'Edinburgh'), ('Glasgow', 'Bearsden')], '125': [('Glasgow', 'Edinburgh'), ('Glasgow', 'Bearsden')], '126': [('Glasgow', 'Edinburgh'), ('Glasgow', 'Bearsden')], '127': [('Glasgow', 'Edinburgh'), ('Glasgow', 'Bearsden')], '128': [('Glasgow', 'Edinburgh'), ('Glasgow', 'Bearsden')], '129': [('Glasgow', 'Edinburgh'), ('Glasgow', 'Bearsden')], '130': [('Glasgow', 'Edinburgh'), ('Glasgow', 'Stirling')], '131': [('Glasgow', 'Edinburgh'), ('Glasgow', 'Stirling')], '132': [('Glasgow', 'Edinburgh'), ('Glasgow', 'Stirling')], '133': [('Glasgow', 'Edinburgh'), ('Glasgow', 'Stirling')], '134': [('Glasgow', 'Edinburgh'), ('Glasgow', 'Stirling')], '135': [('Glasgow', 'Edinburgh'), ('Glasgow', 'Stirling')], '136': [('Glasgow', 'Edinburgh'), ('Glasgow', 'Carlisle'), ('Glasgow', 'Bowling'), ('Glasgow', 'Aberdeen')], '137': [('Glasgow', 'Edinburgh'), ('Glasgow', 'Dumfries'), ('Glasgow', 'Bowling'), ('Glasgow', 'Bridge')], '138': [('Glasgow', 'Edinburgh'), ('Glasgow', 'Iona'), ('Glasgow', 'Bowling'), ('Glasgow', 'Bridge')], '139': [('Edinburgh', 'Glasgow'), ('Edinburgh', 'Stirling'), ('Edinburgh', 'Cupar'), ('Edinburgh', 'Castle'), ('Edinburgh', 'Dunblane')], '140': [('Edinburgh', 'Glasgow'), ('Edinburgh', 'Stirling'), ('Edinburgh', 'Cupar'), ('Edinburgh', 'Aberdeen'), ('Edinburgh', 'Dunblane')], '141': [('Edinburgh', 'Glasgow'), ('Edinburgh', 'Stirling'), ('Edinburgh', 'Cupar'), ('Edinburgh', 'Musselburgh')], '142': [('Edinburgh', 'Glasgow'), ('Edinburgh', 'Stirling'), ('Edinburgh', 'Cupar'), ('Edinburgh', 'Musselburgh')], '143': [('Edinburgh', 'Glasgow'), ('Edinburgh', 'Stirling')], '144': [('Edinburgh', 'Glasgow'), ('Edinburgh', 'Stirling')], '145': [('Edinburgh', 'Glasgow'), ('Edinburgh', 'Stirling')], '146': [('Edinburgh', 'Glasgow'), ('Edinburgh', 'Stirling')], '147': [('Edinburgh', 'Glasgow'), ('Edinburgh', 'Stirling')], '148': [('Edinburgh', 'Glasgow'), ('Edinburgh', 'Stirling')], '149': [('Edinburgh', 'Glasgow'), ('Edinburgh', 'Stirling')], '150': [('Edinburgh', 'Glasgow'), ('Edinburgh', 'Stirling')], '151': [('Edinburgh', 'Glasgow'), ('Edinburgh', 'Stirling')], '152': [('Edinburgh', 'Glasgow'), ('Edinburgh', 'Stirling')], '153': [('Edinburgh', 'Glasgow'), ('Edinburgh', 'Stirling')], '154': [('Edinburgh', 'Glasgow'), ('Edinburgh', 'Stirling')], '155': [('Edinburgh', 'Glasgow')], '156': [('Edinburgh', 'Glasgow')], '157': [('Edinburgh', 'Glasgow')], '158': [('Edinburgh', 'Glasgow')], '159': [('Edinburgh', 'Glasgow')], '160': [('Edinburgh', 'Glasgow')], '161': [('Edinburgh', 'Glasgow')], '162': [('Edinburgh', 'Glasgow')], '163': [('Edinburgh', 'Glasgow')], '164': [('Edinburgh', 'Glasgow')], '165': [('Edinburgh', 'Glasgow')], '166': [('Edinburgh', 'Glasgow')], '167': [('Edinburgh', 'Glasgow')], '168': [('Edinburgh', 'Glasgow')], '169': [('Edinburgh', 'Glasgow')], '170': [('Edinburgh', 'Glasgow')], '171': [('Edinburgh', 'Glasgow')], '172': [('Edinburgh', 'Glasgow')], '173': [('Edinburgh', 'Glasgow')], '174': [('Edinburgh', 'Glasgow')], '175': [('Edinburgh', 'Glasgow')], '176': [('Edinburgh', 'Glasgow')], '177': [('Edinburgh', 'Glasgow')], '178': [('Edinburgh', 'Glasgow')], '179': [('Edinburgh', 'Glasgow')], '180': [('Edinburgh', 'Glasgow')], '181': [('Edinburgh', 'Glasgow')], '182': [('Edinburgh', 'Glasgow')], '183': [('Edinburgh', 'Glasgow')], '184': [('Edinburgh', 'Glasgow')], '185': [('Edinburgh', 'Glasgow')], '186': [('Edinburgh', 'Glasgow')], '187': [('Edinburgh', 'Glasgow')], '188': [('Edinburgh', 'Glasgow')], '189': [('Edinburgh', 'Glasgow')], '190': [('Edinburgh', 'Glasgow')], '191': [('Edinburgh', 'Glasgow')], '192': [('Edinburgh', 'Glasgow')], '193': [('Edinburgh', 'Glasgow')], '194': [('Edinburgh', 'Glasgow')], '195': [('Edinburgh', 'Glasgow')], '196': [('Glasgow', 'Milngavie')], '197': [('Glasgow', 'Milngavie')], '198': [('Glasgow', 'Milngavie')], '199': [('Glasgow', 'Milngavie')], '200': [('Glasgow', 'Milngavie')], '201': [('Glasgow', 'Milngavie')], '202': [('Glasgow', 'Milngavie')], '203': [('Glasgow', 'Milngavie')], '204': [('Glasgow', 'Milngavie')], '205': [('Glasgow', 'Milngavie')], '206': [('Glasgow', 'Milngavie')], '207': [('Glasgow', 'Milngavie')], '208': [('Glasgow', 'Milngavie')], '209': [('Glasgow', 'Milngavie'), ('Glasgow', 'Stirling')], '210': [('Glasgow', 'Milngavie'), ('Glasgow', 'Stirling')], '211': [('Glasgow', 'Milngavie'), ('Glasgow', 'Stirling'), ('Glasgow', 'Hamilton')], '212': [('Glasgow', 'Milngavie'), ('Glasgow', 'Stirling'), ('Glasgow', 'Hamilton')], '213': [('Glasgow', 'Milngavie'), ('Glasgow', 'Stirling'), ('Glasgow', 'Hamilton')], '214': [('Glasgow', 'Milngavie'), ('Glasgow', 'Alloa'), ('Glasgow', 'Hamilton')], '215': [('Glasgow', 'Milngavie'), ('Glasgow', 'Alloa'), ('Glasgow', 'Hamilton')], '216': [('Glasgow', 'Milngavie'), ('Glasgow', 'Alloa'), ('Glasgow', 'Livingston')], '217': [('Glasgow', 'Milngavie'), ('Glasgow', 'Alloa'), ('Glasgow', 'Greenock')], '218': [('Glasgow', 'Milngavie'), ('Glasgow', 'Alloa'), ('Glasgow', 'Gourock')], '219': [('Glasgow', 'Milngavie'), ('Glasgow', 'Stirling'), ('Glasgow', 'Dunoon')], '220': [('Edinburgh', 'Livingston'), ('Edinburgh', 'Stirling'), ('Edinburgh', 'Berwick')], '221': [('Edinburgh', 'Livingston'), ('Edinburgh', 'Stirling'), ('Edinburgh', 'Berwick')], '222': [('Edinburgh', 'Livingston'), ('Edinburgh', 'Stirling')], '223': [('Edinburgh', 'Livingston'), ('Edinburgh', 'Stirling')], '224': [('Edinburgh', 'Livingston'), ('Edinburgh', 'Stirling')], '225': [('Edinburgh', 'Livingston'), ('Edinburgh', 'Alloa')], '226': [('Edinburgh', 'Livingston'), ('Edinburgh', 'Alloa')], '227': [('Edinburgh', 'Livingston'), ('Edinburgh', 'Alloa')], '228': [('Edinburgh', 'Livingston'), ('Edinburgh', 'Alloa')], '229': [('Edinburgh', 'Livingston')], '230': [('Edinburgh', 'Livingston')], '231': [('Edinburgh', 'Livingston')], '232': [('Edinburgh', 'Livingston')], '233': [('Edinburgh', 'Livingston')], '234': [('Edinburgh', 'Livingston')]}\n",
      "{'102': 1, '103': 1, '104': 1, '105': 1, '106': 1, '107': 1, '108': 1, '109': 1, '110': 1, '111': 1, '112': 1, '113': 1, '114': 1, '115': 1, '116': 1, '117': 1, '118': 1, '119': 1, '120': 1, '121': 1, '122': 1, '123': 1, '124': 2, '125': 2, '126': 2, '127': 2, '128': 2, '129': 2, '130': 2, '131': 2, '132': 2, '133': 2, '134': 2, '135': 2, '136': 4, '137': 4, '138': 4, '139': 5, '140': 5, '141': 4, '142': 4, '143': 2, '144': 2, '145': 2, '146': 2, '147': 2, '148': 2, '149': 2, '150': 2, '151': 2, '152': 2, '153': 2, '154': 2, '155': 1, '156': 1, '157': 1, '158': 1, '159': 1, '160': 1, '161': 1, '162': 1, '163': 1, '164': 1, '165': 1, '166': 1, '167': 1, '168': 1, '169': 1, '170': 1, '171': 1, '172': 1, '173': 1, '174': 1, '175': 1, '176': 1, '177': 1, '178': 1, '179': 1, '180': 1, '181': 1, '182': 1, '183': 1, '184': 1, '185': 1, '186': 1, '187': 1, '188': 1, '189': 1, '190': 1, '191': 1, '192': 1, '193': 1, '194': 1, '195': 1, '196': 1, '197': 1, '198': 1, '199': 1, '200': 1, '201': 1, '202': 1, '203': 1, '204': 1, '205': 1, '206': 1, '207': 1, '208': 1, '209': 2, '210': 2, '211': 3, '212': 3, '213': 3, '214': 3, '215': 3, '216': 3, '217': 3, '218': 3, '219': 3, '220': 3, '221': 3, '222': 2, '223': 2, '224': 2, '225': 2, '226': 2, '227': 2, '228': 2, '229': 1, '230': 1, '231': 1, '232': 1, '233': 1, '234': 1}\n"
     ]
    }
   ],
   "source": [
    "myData = {'90999': [('Milngavie','Glasgow')], '892341': [('Glasgow', 'Carlisle'), ('Glasgow', 'Edinburgh')]}\n",
    "\n",
    "def countJourneysByPerson(dataStruct):\n",
    "    personToNumber = {}\n",
    "    for person in dataStruct:\n",
    "        listOfTrips = dataStruct[person]\n",
    "        personToNumber[person] = len(listOfTrips)\n",
    "    return personToNumber\n",
    "        \n",
    "\n",
    "def readJourneysFromFile(filename):\n",
    "    dataStruct = {}\n",
    "    try:\n",
    "        for line in open(filename, 'r'):\n",
    "            split = line.strip().split()\n",
    "            if len(split)< 3:\n",
    "                print(\"There is a problem with line \"+ line.strip())\n",
    "            #What else might I check for defensively?\n",
    "            else:\n",
    "                if split[0] not in dataStruct:\n",
    "                    dataStruct[split[0]] = []\n",
    "                theTuple = (split[1], split[2])\n",
    "                dataStruct[split[0]].append(theTuple)\n",
    "    \n",
    "        return dataStruct\n",
    "    except:\n",
    "        print('Failure while to reading from ' + filename)\n",
    "        return dataStruct\n",
    "        \n",
    "myJourneys = readJourneysFromFile('sampleJourneys') \n",
    "print(myJourneys)\n",
    "\n",
    "counts = countJourneysByPerson(myJourneys)\n",
    "print(counts)\n"
   ]
  },
  {
   "cell_type": "markdown",
   "metadata": {},
   "source": [
    "Let's think about another couple functions we could write:\n",
    "1. a function that counts the number of people who have done each unique journey\n",
    "2. a function that counts the number of journeys that end in each destination"
   ]
  },
  {
   "cell_type": "code",
   "execution_count": 4,
   "metadata": {},
   "outputs": [
    {
     "name": "stdout",
     "output_type": "stream",
     "text": [
      "{('Milngavie', 'Glasgow'): 2, ('Glasgow', 'Carlisle'): 1, ('Glasgow', 'Edinburgh'): 1}\n",
      "{'Glasgow': 2, 'Carlisle': 1, 'Edinburgh': 1}\n"
     ]
    }
   ],
   "source": [
    "# we will assume each person does each journey at most once\n",
    "def countPeoplePerJourney(dataStruct):\n",
    "    countDict = {}\n",
    "    for person in dataStruct:\n",
    "        journeys = dataStruct[person]\n",
    "        for journey in journeys:\n",
    "            if journey not in countDict:\n",
    "                countDict[journey] = 0\n",
    "            countDict[journey] = countDict[journey] +1\n",
    "    return countDict\n",
    "\n",
    "\n",
    "def countJourneysPerDestination(dataStruct):\n",
    "    countDict = {}\n",
    "    for person in dataStruct:\n",
    "        journeys = dataStruct[person]\n",
    "        for journey in journeys:\n",
    "            (origin, destination) = journey\n",
    "            if destination not in countDict:\n",
    "                countDict[destination] = 0\n",
    "            countDict[destination] = countDict[destination] +1\n",
    "    return countDict\n",
    "\n",
    "\n",
    "\n",
    "# Important question: how might we add error-checking or exception-catching to our functions above?\n",
    "\n",
    "myData = {'90999': [('Milngavie','Glasgow')], '892341': [('Glasgow', 'Carlisle'), ('Glasgow', 'Edinburgh')], '909679': [('Milngavie','Glasgow')]}\n",
    "\n",
    "print(countPeoplePerJourney(myData))\n",
    "print(countJourneysPerDestination(myData))\n",
    "\n"
   ]
  },
  {
   "cell_type": "markdown",
   "metadata": {},
   "source": [
    "**Important extra task:** think about errors and exceptions - what else could you add?\n",
    "    \n",
    "But for the moment, let's look at plotting.  We are going to use a library called matplotlib for plotting.\n",
    "\n",
    "https://matplotlib.org/\n",
    "\n",
    "A big part of the reason for this: I want you to practice using an existing library, and understanding documentation.\n",
    "\n",
    "Let's look at a basic example of a scatterplot in matplotlib:"
   ]
  },
  {
   "cell_type": "code",
   "execution_count": 24,
   "metadata": {},
   "outputs": [
    {
     "data": {
      "image/png": "[encoded data removed]",
      "text/plain": [
       "<Figure size 432x288 with 1 Axes>"
      ]
     },
     "metadata": {
      "needs_background": "light"
     },
     "output_type": "display_data"
    }
   ],
   "source": [
    "import matplotlib.pyplot as plt\n",
    "\n",
    "xVals = [1, 2, 3, 4, 5, 6, 7, 8]\n",
    "yVals = [1, 4, 9, 16, 25, 36, 49, 64]\n",
    "\n",
    "plt.plot(xVals, yVals)\n",
    "plt.show()"
   ]
  },
  {
   "cell_type": "markdown",
   "metadata": {},
   "source": [
    "There are loads of different plotting styles possible using matplotlib!  Feel free to have look and try things out.\n",
    "\n",
    "Let's use the histogram function to plot a histogram of the number of journeys for each person.  We already have a function to get the count of number of different journeys for each person!"
   ]
  },
  {
   "cell_type": "code",
   "execution_count": 26,
   "metadata": {},
   "outputs": [
    {
     "data": {
      "image/png": "[encoded data removed]",
      "text/plain": [
       "<Figure size 432x288 with 1 Axes>"
      ]
     },
     "metadata": {
      "needs_background": "light"
     },
     "output_type": "display_data"
    }
   ],
   "source": [
    "# this gets us just the values from the dictionary -\n",
    "#here, it will be just the counts of journeys, not the ids\n",
    "justCounts = counts.values()\n",
    "\n",
    "plt.hist(justCounts)\n",
    "plt.show()"
   ]
  },
  {
   "cell_type": "markdown",
   "metadata": {},
   "source": [
    "Homework: \n",
    "    1. Think about what other error-checking we could have added\n",
    "    2. Try out a few plotting options with matplotlib.  Have a look at the online documentation, and try out a couple examples"
   ]
  },
  {
   "cell_type": "code",
   "execution_count": null,
   "metadata": {},
   "outputs": [],
   "source": []
  },
  {
   "cell_type": "code",
   "execution_count": null,
   "metadata": {},
   "outputs": [],
   "source": []
  },
  {
   "cell_type": "code",
   "execution_count": null,
   "metadata": {},
   "outputs": [],
   "source": []
  }
 ],
 "metadata": {
  "kernelspec": {
   "display_name": "Python 3",
   "language": "python",
   "name": "python3"
  },
  "language_info": {
   "codemirror_mode": {
    "name": "ipython",
    "version": 3
   },
   "file_extension": ".py",
   "mimetype": "text/x-python",
   "name": "python",
   "nbconvert_exporter": "python",
   "pygments_lexer": "ipython3",
   "version": "3.7.6"
  }
 },
 "nbformat": 4,
 "nbformat_minor": 4
}
